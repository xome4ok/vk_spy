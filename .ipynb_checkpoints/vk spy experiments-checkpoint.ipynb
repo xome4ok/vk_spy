{
 "cells": [
  {
   "cell_type": "code",
   "execution_count": 29,
   "metadata": {
    "collapsed": true
   },
   "outputs": [],
   "source": [
    "import vk\n",
    "import schedule\n",
    "vksession = vk.Session()\n",
    "vkapi = vk.API(vksession)"
   ]
  },
  {
   "cell_type": "code",
   "execution_count": 30,
   "metadata": {
    "collapsed": false
   },
   "outputs": [],
   "source": [
    "def query_users(user_ids):\n",
    "    '''\n",
    "    takes list of user_ids or screen_names (can be mixed)\n",
    "    returns list of standart VKAPI User objects'''\n",
    "    return vkapi.users.get(user_ids=user_id, fields=\"online,last_seen,has_mobile\")"
   ]
  },
  {
   "cell_type": "markdown",
   "metadata": {},
   "source": [
    "last_seen\n",
    "object\t\n",
    "\n",
    "время последнего посещения. Объект, содержащий следующие поля:\n",
    "\n",
    "time (integer) — время последнего посещения в формате Unixtime.\n",
    "\n",
    "platform (integer) — тип платформы, через которую был осуществлён последний вход. Возможные значения:\n",
    "1 — мобильная версия;\n",
    "2 — приложение для iPhone;\n",
    "3 — приложение для iPad;\n",
    "4 — приложение для Android;\n",
    "5 — приложение для Windows Phone;\n",
    "6 — приложение для Windows 8;\n",
    "7 — полная версия сайта."
   ]
  },
  {
   "cell_type": "code",
   "execution_count": 131,
   "metadata": {
    "collapsed": false,
    "scrolled": true
   },
   "outputs": [
    {
     "data": {
      "text/plain": [
       "[{u'first_name': u'\\u041d\\u0430\\u0441\\u0442\\u044f',\n",
       "  u'has_mobile': 1,\n",
       "  u'last_name': u'\\u041a\\u043e\\u043c\\u0430\\u0440\\u043e\\u0432\\u0430',\n",
       "  u'last_seen': {u'platform': 7, u'time': 1476854352},\n",
       "  u'online': 0,\n",
       "  u'uid': 47244995},\n",
       " {u'first_name': u'\\u0414\\u043c\\u0438\\u0442\\u0440\\u0438\\u0439',\n",
       "  u'has_mobile': 1,\n",
       "  u'last_name': u'\\u041f\\u0440\\u044f\\u043d\\u0438\\u0447\\u043d\\u0438\\u043a\\u043e\\u0432',\n",
       "  u'last_seen': {u'platform': 7, u'time': 1476923733},\n",
       "  u'online': 1,\n",
       "  u'uid': 4586435}]"
      ]
     },
     "execution_count": 131,
     "metadata": {},
     "output_type": "execute_result"
    }
   ],
   "source": [
    "query_user([47244995,\"xome4ok\"])"
   ]
  },
  {
   "cell_type": "code",
   "execution_count": 33,
   "metadata": {
    "collapsed": false,
    "scrolled": false
   },
   "outputs": [
    {
     "data": {
      "text/plain": [
       "[{u'first_name': u'\\u0412\\u0438\\u043a\\u0442\\u043e\\u0440\\u0438\\u044f',\n",
       "  u'has_mobile': 1,\n",
       "  u'hidden': 1,\n",
       "  u'last_name': u'\\u041a\\u0443\\u0431\\u0438\\u0446\\u043a\\u0430\\u044f',\n",
       "  u'last_seen': {u'platform': 2, u'time': 1476905330},\n",
       "  u'online': 0,\n",
       "  u'uid': 5746378}]"
      ]
     },
     "execution_count": 33,
     "metadata": {},
     "output_type": "execute_result"
    }
   ],
   "source": [
    "# test: querying user who closed his page - successful\n",
    "query_user(5746378)"
   ]
  },
  {
   "cell_type": "code",
   "execution_count": 124,
   "metadata": {
    "collapsed": true
   },
   "outputs": [],
   "source": [
    "from threading import Timer\n",
    "\n",
    "class RepeatedTimer(object):\n",
    "    def __init__(self, interval, function, *args, **kwargs):\n",
    "        self._timer     = None\n",
    "        self.interval   = interval\n",
    "        self.function   = function\n",
    "        self.args       = args\n",
    "        self.kwargs     = kwargs\n",
    "        self.is_running = False\n",
    "        self.start()\n",
    "\n",
    "    def _run(self):\n",
    "        self.is_running = False\n",
    "        self.start()\n",
    "        self.function(*self.args, **self.kwargs)\n",
    "\n",
    "    def start(self):\n",
    "        if not self.is_running:\n",
    "            self._timer = Timer(self.interval, self._run)\n",
    "            self._timer.start()\n",
    "            self.is_running = True\n",
    "\n",
    "    def stop(self):\n",
    "        self._timer.cancel()\n",
    "        self.is_running = False\n",
    "    \n",
    "    def update_args(self,new_args):\n",
    "        self.args = (new_args,)"
   ]
  },
  {
   "cell_type": "code",
   "execution_count": 128,
   "metadata": {
    "collapsed": false
   },
   "outputs": [
    {
     "name": "stdout",
     "output_type": "stream",
     "text": [
      "[{u'first_name': u'\\u0412\\u0438\\u043a\\u0442\\u043e\\u0440\\u0438\\u044f', u'last_name': u'\\u041a\\u0443\\u0431\\u0438\\u0446\\u043a\\u0430\\u044f', u'uid': 5746378, u'has_mobile': 1, u'online': 0, u'hidden': 1, u'last_seen': {u'platform': 2, u'time': 1476905330}}]\n",
      "[{u'first_name': u'\\u0412\\u0438\\u043a\\u0442\\u043e\\u0440\\u0438\\u044f', u'last_name': u'\\u041a\\u0443\\u0431\\u0438\\u0446\\u043a\\u0430\\u044f', u'uid': 5746378, u'has_mobile': 1, u'online': 0, u'hidden': 1, u'last_seen': {u'platform': 2, u'time': 1476905330}}]\n",
      "[{u'first_name': u'\\u0412\\u0438\\u043a\\u0442\\u043e\\u0440\\u0438\\u044f', u'last_name': u'\\u041a\\u0443\\u0431\\u0438\\u0446\\u043a\\u0430\\u044f', u'uid': 5746378, u'has_mobile': 1, u'online': 0, u'hidden': 1, u'last_seen': {u'platform': 2, u'time': 1476905330}}]\n"
     ]
    }
   ],
   "source": [
    "t.update_args([5746378])"
   ]
  },
  {
   "cell_type": "code",
   "execution_count": 125,
   "metadata": {
    "collapsed": false,
    "scrolled": false
   },
   "outputs": [
    {
     "name": "stdout",
     "output_type": "stream",
     "text": [
      "[{u'first_name': u'\\u041f\\u0430\\u0432\\u0435\\u043b', u'last_name': u'\\u0414\\u0443\\u0440\\u043e\\u0432', u'uid': 1, u'has_mobile': 1, u'online': 0, u'last_seen': {u'time': 0}}]\n"
     ]
    }
   ],
   "source": [
    "ul = [1]\n",
    "def verbose_query_user(user_list):\n",
    "    print query_user(user_list)\n",
    "t = RepeatedTimer(5,verbose_query_user,ul)"
   ]
  },
  {
   "cell_type": "code",
   "execution_count": 129,
   "metadata": {
    "collapsed": false
   },
   "outputs": [
    {
     "name": "stdout",
     "output_type": "stream",
     "text": [
      "[{u'first_name': u'\\u0412\\u0438\\u043a\\u0442\\u043e\\u0440\\u0438\\u044f', u'last_name': u'\\u041a\\u0443\\u0431\\u0438\\u0446\\u043a\\u0430\\u044f', u'uid': 5746378, u'has_mobile': 1, u'online': 0, u'hidden': 1, u'last_seen': {u'platform': 2, u'time': 1476905330}}]\n"
     ]
    }
   ],
   "source": [
    "t.stop()"
   ]
  }
 ],
 "metadata": {
  "kernelspec": {
   "display_name": "Python 2",
   "language": "python",
   "name": "python2"
  },
  "language_info": {
   "codemirror_mode": {
    "name": "ipython",
    "version": 2
   },
   "file_extension": ".py",
   "mimetype": "text/x-python",
   "name": "python",
   "nbconvert_exporter": "python",
   "pygments_lexer": "ipython2",
   "version": "2.7.6"
  }
 },
 "nbformat": 4,
 "nbformat_minor": 0
}
